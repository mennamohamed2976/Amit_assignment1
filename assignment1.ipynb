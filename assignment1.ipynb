{
  "cells": [
    {
      "cell_type": "markdown",
      "metadata": {
        "id": "8yl6A36bnbbB"
      },
      "source": [
        "# Define a function that applies fibonacchi using recursion\n",
        "\n",
        "## Example\n",
        "Input: 10\n",
        "\n",
        "Output: [0, 1, 1, 2, 3, 5, 8, 13, 21, 34]"
      ]
    },
    {
      "cell_type": "code",
      "execution_count": null,
      "metadata": {
        "colab": {
          "base_uri": "https://localhost:8080/"
        },
        "id": "E2Fj8sownbbD",
        "outputId": "479d0062-b351-4e3b-fe28-4ceb8c43a2f9"
      },
      "outputs": [
        {
          "output_type": "stream",
          "name": "stdout",
          "text": [
            "[0, 1, 1, 2, 3, 5, 8, 13, 21, 34]\n"
          ]
        }
      ],
      "source": [
        "def fibonacci(n):\n",
        "    if n == 0:\n",
        "        return []\n",
        "    elif n == 1:\n",
        "        return [0]\n",
        "    elif n == 2:\n",
        "        return [0, 1]\n",
        "\n",
        "    # Recursive case\n",
        "    seq = fibonacci(n - 1)\n",
        "    seq.append(seq[-1] + seq[-2])\n",
        "    return seq\n",
        "n = 10\n",
        "result = fibonacci(n)\n",
        "print(result)\n"
      ]
    },
    {
      "cell_type": "markdown",
      "metadata": {
        "id": "jmXBEAN3nbbE"
      },
      "source": [
        "# Write a Python program to remove an item from a given set\n",
        "\n",
        "## Example\n",
        "my_set: {1, 2, 3, 4, 5}\n",
        "\n",
        "Output: {1, 2, 4, 5}"
      ]
    },
    {
      "cell_type": "code",
      "execution_count": null,
      "metadata": {
        "colab": {
          "base_uri": "https://localhost:8080/"
        },
        "id": "uUIhS8v4nbbE",
        "outputId": "32e90ddc-4749-4f50-f498-e7aff395d7b1"
      },
      "outputs": [
        {
          "output_type": "execute_result",
          "data": {
            "text/plain": [
              "{1, 2, 4, 5}"
            ]
          },
          "metadata": {},
          "execution_count": 17
        }
      ],
      "source": [
        "my_set={1, 2, 3, 4, 5}\n",
        "my_set.remove(3)\n",
        "my_set"
      ]
    },
    {
      "cell_type": "markdown",
      "metadata": {
        "id": "TdNslVmwnbbE"
      },
      "source": [
        "# Write a Python program to removes multiple items from a given set\n",
        "\n",
        "## Example\n",
        "my_set: {1, 2, 3, 4, 5}\n",
        "\n",
        "items to be removed: {1, 4}\n",
        "\n",
        "Output: {2, 3, 5}"
      ]
    },
    {
      "cell_type": "code",
      "execution_count": null,
      "metadata": {
        "colab": {
          "base_uri": "https://localhost:8080/"
        },
        "id": "SNL8bSB2nbbE",
        "outputId": "8a3e7355-d6f7-4102-dff0-109eb0931417"
      },
      "outputs": [
        {
          "output_type": "execute_result",
          "data": {
            "text/plain": [
              "{2, 3, 5}"
            ]
          },
          "metadata": {},
          "execution_count": 18
        }
      ],
      "source": [
        "my_set={1, 2, 3, 4, 5}\n",
        "my_set=my_set-{1,4}\n",
        "my_set"
      ]
    },
    {
      "cell_type": "markdown",
      "metadata": {
        "id": "mcqzzSn_nbbF"
      },
      "source": [
        "# Write a Python program to find the index of an item in a tuple.\n",
        "\n",
        "## Example\n",
        "my_tuple: ('apple', 'banana', 'orange', 'grape', 'banana')\n",
        "\n",
        "index of 'orange' is: 2"
      ]
    },
    {
      "cell_type": "code",
      "execution_count": null,
      "metadata": {
        "colab": {
          "base_uri": "https://localhost:8080/"
        },
        "id": "ceWb1H4onbbF",
        "outputId": "9964dccd-5abe-4caa-c1e2-e3f4cae70ea7"
      },
      "outputs": [
        {
          "output_type": "execute_result",
          "data": {
            "text/plain": [
              "2"
            ]
          },
          "metadata": {},
          "execution_count": 19
        }
      ],
      "source": [
        "my_tuple=('apple', 'banana', 'orange', 'grape', 'banana')\n",
        "my_tuple.index('orange')"
      ]
    },
    {
      "cell_type": "markdown",
      "metadata": {
        "id": "iPcKFySxnbbF"
      },
      "source": [
        "# Ask user to input a sentence then convert this sentence into list of words. (hint: search for split function)\n",
        "\n",
        "## Example\n",
        "Input: \"Welcome to Amit\"\n",
        "\n",
        "Output: ['Welcome', 'to', 'Amit']"
      ]
    },
    {
      "cell_type": "code",
      "execution_count": null,
      "metadata": {
        "colab": {
          "base_uri": "https://localhost:8080/"
        },
        "id": "G9U48EfmnbbF",
        "outputId": "a2de2625-f60d-4dfb-de9e-9f9903e4ee57"
      },
      "outputs": [
        {
          "name": "stdout",
          "output_type": "stream",
          "text": [
            "Enter sentence : Welcome to Amit\n"
          ]
        },
        {
          "output_type": "execute_result",
          "data": {
            "text/plain": [
              "['Welcome', 'to', 'Amit']"
            ]
          },
          "metadata": {},
          "execution_count": 21
        }
      ],
      "source": [
        "sentence=input(\"Enter sentence : \")\n",
        "out =sentence.split()\n",
        "out"
      ]
    },
    {
      "cell_type": "markdown",
      "metadata": {
        "id": "1s8_y4K7nbbG"
      },
      "source": [
        "# Take a string from the user and if it's Palindrome print \"Palindrome\" otherwise print \"Not a Palindrome\"\n",
        "\n",
        "A string is Palindrome if it's read the same from the left and right\n",
        "\n",
        "## Example\n",
        "Input: racecar\n",
        "\n",
        "Output: Palindrome"
      ]
    },
    {
      "cell_type": "code",
      "execution_count": null,
      "metadata": {
        "colab": {
          "base_uri": "https://localhost:8080/"
        },
        "id": "qbVV0U2QnbbH",
        "outputId": "c8e48a19-986c-41d4-d102-cecc1f6f2c25"
      },
      "outputs": [
        {
          "output_type": "stream",
          "name": "stdout",
          "text": [
            "Enter string : racecar\n",
            " Palindrome\n"
          ]
        }
      ],
      "source": [
        "A=input(\"Enter string : \")\n",
        "B=A[::-1]\n",
        "if A==B:\n",
        "  print(\" Palindrome\")\n",
        "else:\n",
        "  print(\"Not a Palindrome\")"
      ]
    },
    {
      "cell_type": "markdown",
      "metadata": {
        "id": "neJo1tl0nbbH"
      },
      "source": [
        "# find the factorial of a number\n",
        "## Example\n",
        "(factorial of 5) = 5 * 4 * 3 * 2 * 1 = 120"
      ]
    },
    {
      "cell_type": "code",
      "execution_count": null,
      "metadata": {
        "colab": {
          "base_uri": "https://localhost:8080/"
        },
        "id": "fMz5DP1znbbH",
        "outputId": "c0e7e97d-bb10-4e08-ef17-a280b62d1e46"
      },
      "outputs": [
        {
          "output_type": "stream",
          "name": "stdout",
          "text": [
            "Enter number : 5\n",
            "(factorial of 5)=120\n"
          ]
        }
      ],
      "source": [
        "num=int(input(\"Enter number : \"))\n",
        "fact=1\n",
        "if num==0 or num==1:\n",
        "   fact=1\n",
        "else:\n",
        "    for x in range(1,num+1):\n",
        "        fact*=x\n",
        "\n",
        "print(f\"(factorial of {num})={fact}\" )"
      ]
    },
    {
      "cell_type": "markdown",
      "metadata": {
        "id": "tBPg-hMvnbbH"
      },
      "source": [
        "# Create a List of Squares of Numbers from 1 to 10\n",
        "## Example\n",
        "Output: [1, 4, 9, 16, 25, 36, 49, 64, 81, 100]"
      ]
    },
    {
      "cell_type": "code",
      "execution_count": null,
      "metadata": {
        "colab": {
          "base_uri": "https://localhost:8080/"
        },
        "id": "j7B-VdQmnbbI",
        "outputId": "3d589feb-a88e-4044-80b2-8faf4be315cb"
      },
      "outputs": [
        {
          "output_type": "stream",
          "name": "stdout",
          "text": [
            "Enter number : 10\n",
            "[1, 4, 9, 16, 25, 36, 49, 64, 81, 100]\n"
          ]
        }
      ],
      "source": [
        "num=int(input(\"Enter number : \"))\n",
        "list=[]\n",
        "\n",
        "for x in range(1,num+1):\n",
        "    list.append(x**2)\n",
        "\n",
        "print(list)"
      ]
    },
    {
      "cell_type": "markdown",
      "metadata": {
        "id": "P5H2Ic6CnbbI"
      },
      "source": [
        "**Another Solution**"
      ]
    },
    {
      "cell_type": "code",
      "execution_count": null,
      "metadata": {
        "id": "h274PAPbnbbI"
      },
      "outputs": [],
      "source": [
        "# Write your answer here"
      ]
    },
    {
      "cell_type": "markdown",
      "metadata": {
        "id": "5ahnmGrVnbbI"
      },
      "source": [
        "# Create a function that Calculates the Sum of Even Numbers in a List\n",
        "## Example\n",
        "numbers: [1, 2, 3, 4, 5, 6]\n",
        "\n",
        "Output: 12"
      ]
    },
    {
      "cell_type": "code",
      "execution_count": null,
      "metadata": {
        "colab": {
          "base_uri": "https://localhost:8080/"
        },
        "id": "hoXCYy41nbbI",
        "outputId": "f14173b0-abe6-4ef5-9424-92e0f7c816e1"
      },
      "outputs": [
        {
          "output_type": "stream",
          "name": "stdout",
          "text": [
            "12\n"
          ]
        }
      ],
      "source": [
        "numbers=[1, 2, 3, 4, 5, 6]\n",
        "sum=0\n",
        "for x in numbers:\n",
        "  if x%2==0:\n",
        "    sum+=x\n",
        "\n",
        "print(sum)\n",
        "\n"
      ]
    },
    {
      "cell_type": "markdown",
      "metadata": {
        "id": "ICSWJg3XnbbI"
      },
      "source": [
        "# Create a function that takes a list as input and return reversed list\n",
        "\n",
        "## Example\n",
        "lst: [1, 2, 3]\n",
        "\n",
        "Output: [3, 2, 1]"
      ]
    },
    {
      "cell_type": "code",
      "execution_count": null,
      "metadata": {
        "colab": {
          "base_uri": "https://localhost:8080/"
        },
        "id": "plsE8YVonbbI",
        "outputId": "4ba01e67-91c6-4fb2-cbed-b99c95a9879d"
      },
      "outputs": [
        {
          "output_type": "stream",
          "name": "stdout",
          "text": [
            "Enter list : 1 2 3\n",
            "['3', '2', '1']\n"
          ]
        }
      ],
      "source": [
        "listt = input(\"Enter list : \").split()\n",
        "B = listt[::-1]\n",
        "print(B)\n"
      ]
    },
    {
      "cell_type": "markdown",
      "metadata": {
        "id": "n-6MXORvnbbJ"
      },
      "source": [
        "# create a function that calculates the median of a list of numbers (a median is the middle element in sorted list of numbers)\n",
        "\n",
        "## Example\n",
        "numbers: [5, 2, 7, 3, 1]\n",
        "\n",
        "Output: 3"
      ]
    },
    {
      "cell_type": "code",
      "execution_count": null,
      "metadata": {
        "colab": {
          "base_uri": "https://localhost:8080/"
        },
        "id": "-o8FHTDonbbJ",
        "outputId": "c55bfda8-10f0-4c5c-cbe8-372bb8475186"
      },
      "outputs": [
        {
          "output_type": "stream",
          "name": "stdout",
          "text": [
            "3\n"
          ]
        }
      ],
      "source": [
        "numbers= [5, 2, 7, 3, 1]\n",
        "numbers.sort()\n",
        "n=len(numbers)\n",
        "if n % 2 == 1:\n",
        "    median = numbers[n // 2]\n",
        "else:\n",
        "    median = (numbers[n // 2 - 1] + numbers[n // 2]) / 2\n",
        "print(median)\n"
      ]
    },
    {
      "cell_type": "markdown",
      "metadata": {
        "id": "kvItyyYnnbbJ"
      },
      "source": [
        "# create a function that calculates the mode of a list of number (mode is the most frequent element in a list)\n",
        "\n",
        "## Example\n",
        "lst: [5, 2, 7, 3, 2, 1, 5]\n",
        "\n",
        "Output: 5"
      ]
    },
    {
      "cell_type": "code",
      "execution_count": null,
      "metadata": {
        "colab": {
          "base_uri": "https://localhost:8080/"
        },
        "id": "HWRXNG7pnbbJ",
        "outputId": "93a38e2f-23ca-45e6-a349-3f20254b2290"
      },
      "outputs": [
        {
          "output_type": "stream",
          "name": "stdout",
          "text": [
            "The mode is: [5, 2]\n"
          ]
        }
      ],
      "source": [
        "\n",
        "from collections import Counter\n",
        "\n",
        "def calculate_mode(lst):\n",
        "    # Count the frequency of each element in the list\n",
        "    count = Counter(lst)\n",
        "\n",
        "    # Find the maximum frequency\n",
        "    max_count = max(count.values())\n",
        "\n",
        "    # Find the elements that have the maximum frequency (mode)\n",
        "    mode = [k for k, v in count.items() if v == max_count]\n",
        "\n",
        "    # If there is only one mode, return it. Otherwise, return the list of modes.\n",
        "    return mode[0] if len(mode) == 1 else mode\n",
        "\n",
        "# Example usage:\n",
        "lst = [5, 2, 7, 3, 2, 1, 5]\n",
        "mode = calculate_mode(lst)\n",
        "print(f\"The mode is: {mode}\")\n"
      ]
    },
    {
      "cell_type": "markdown",
      "metadata": {
        "id": "V8SbFMwxnbbJ"
      },
      "source": [
        "# Task: take the mark from the user and convert it to grade according to the following guidelines\n",
        "1. 85-100 A\n",
        "2. 75-85 B\n",
        "3. 65-75 C\n",
        "4. 50-65 D\n",
        "5. <50 F"
      ]
    },
    {
      "cell_type": "code",
      "execution_count": null,
      "metadata": {
        "colab": {
          "base_uri": "https://localhost:8080/"
        },
        "id": "P5k3yB-9nbbJ",
        "outputId": "eace60ab-3d5e-4422-bdae-caab01684480"
      },
      "outputs": [
        {
          "output_type": "stream",
          "name": "stdout",
          "text": [
            "Enter mark :77\n",
            "Your grade is :B\n"
          ]
        }
      ],
      "source": [
        "mark=float(input(\"Enter mark :\"))\n",
        "if mark<=100 and mark>=85 :\n",
        "  grade=\"A\"\n",
        "\n",
        "elif mark<=85 and mark>=75:\n",
        "  grade=\"B\"\n",
        "\n",
        "elif mark<=75 and mark>=65:\n",
        "  grade=\"C\"\n",
        "\n",
        "elif mark<=65 and mark>=50:\n",
        "  grade=\"D\"\n",
        "\n",
        "else :\n",
        "  grade=\"F\"\n",
        "\n",
        "print(f\"Your grade is :{grade}\")\n"
      ]
    }
  ],
  "metadata": {
    "colab": {
      "provenance": [],
      "toc_visible": true
    },
    "kernelspec": {
      "display_name": "Python 3 (ipykernel)",
      "language": "python",
      "name": "python3"
    },
    "language_info": {
      "codemirror_mode": {
        "name": "ipython",
        "version": 3
      },
      "file_extension": ".py",
      "mimetype": "text/x-python",
      "name": "python",
      "nbconvert_exporter": "python",
      "pygments_lexer": "ipython3",
      "version": "3.10.9"
    }
  },
  "nbformat": 4,
  "nbformat_minor": 0
}